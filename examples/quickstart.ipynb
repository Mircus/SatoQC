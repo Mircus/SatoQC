{
 "cells": [
  {
   "cell_type": "markdown",
   "id": "a6ff7459",
   "metadata": {},
   "source": [
    "# Sato Quasi-Complex — Quickstart Notebook\n",
    "This notebook demonstrates how to use the `HyperfunctionCohomology` module to analyze integrability obstructions using hyperfunction-inspired sheaf cohomology.\n",
    "\n",
    "**Contents**\n",
    "1. Setup & Imports\n",
    "2. Load the module\n",
    "3. Run the built-in example\n",
    "4. Inspect computed obstructions\n",
    "5. (Optional) Define your own almost complex structure\n"
   ]
  },
  {
   "cell_type": "code",
   "execution_count": null,
   "id": "76a83abe",
   "metadata": {},
   "outputs": [],
   "source": [
    "\n",
    "# 1) Setup & Imports\n",
    "import sys, importlib.util, types\n",
    "from pathlib import Path\n",
    "\n",
    "MODULE_FILE = Path(r\"/mnt/data/extracted_files/sato-quasi-complex-main/src/HyperfunctionCohomology.py\")\n",
    "print(\"Using module:\", MODULE_FILE)\n",
    "\n",
    "# 2) Load the module dynamically (without needing a package install)\n",
    "spec = importlib.util.spec_from_file_location(\"hypercoh\", str(MODULE_FILE))\n",
    "hypercoh = importlib.util.module_from_spec(spec)\n",
    "spec.loader.exec_module(hypercoh)\n",
    "\n",
    "# Expose key classes\n",
    "AlmostComplexStructure = hypercoh.AlmostComplexStructure\n",
    "Chart = hypercoh.Chart\n",
    "QuasiComplexManifold = hypercoh.QuasiComplexManifold\n",
    "HyperfunctionCohomology = hypercoh.HyperfunctionCohomology\n"
   ]
  },
  {
   "cell_type": "code",
   "execution_count": null,
   "id": "276dc5a7",
   "metadata": {},
   "outputs": [],
   "source": [
    "\n",
    "# 3) Run the built-in simple example and compute obstructions\n",
    "obstructions = hypercoh.run_example()\n",
    "print(\"Number of obstruction classes found:\", len(obstructions))\n",
    "obstructions[:3]\n"
   ]
  },
  {
   "cell_type": "code",
   "execution_count": null,
   "id": "5e9ee301",
   "metadata": {},
   "outputs": [],
   "source": [
    "\n",
    "# 4) Inspect / pretty print the first few obstructions (if any)\n",
    "from pprint import pprint\n",
    "for i, obs in enumerate(obstructions[:5], 1):\n",
    "    print(f\"--- Obstruction #{i} ---\")\n",
    "    pprint(obs)\n"
   ]
  },
  {
   "cell_type": "markdown",
   "id": "1aab65f2",
   "metadata": {},
   "source": [
    "## 5) Define your own almost complex structure\n",
    "Below is a starter template: replace `J_matrix_fn` with your symbolic or numeric definition.\n"
   ]
  },
  {
   "cell_type": "code",
   "execution_count": null,
   "id": "b81ad6e8",
   "metadata": {},
   "outputs": [],
   "source": [
    "\n",
    "# Template: define a custom almost complex structure on R^4 (x,y,u,v)\n",
    "import sympy as sp\n",
    "\n",
    "x, y, u, v = sp.symbols('x y u v', real=True)\n",
    "\n",
    "def J_matrix_fn(point):\n",
    "    # Example: nearly standard complex structure with small perturbation epsilon\n",
    "    epsilon = sp.Rational(1, 10)  # 0.1\n",
    "    # J in block form [[0, -1], [1, 0]] + epsilon*X\n",
    "    J = sp.Matrix([[0, -1, 0, 0],\n",
    "                   [1,  0, 0, 0],\n",
    "                   [0,  0, 0, -1],\n",
    "                   [0,  0, 1,  0]])\n",
    "    X = sp.Matrix([[0, 0, x, 0],\n",
    "                   [0, 0, 0, y],\n",
    "                   [-x,0, 0, 0],\n",
    "                   [0,-y, 0, 0]])\n",
    "    return J + epsilon*X\n",
    "\n",
    "J = AlmostComplexStructure(dim=4, J_matrix_fn=J_matrix_fn)\n",
    "M = QuasiComplexManifold(charts=[Chart(\"U0\", center=(0,0,0,0), radius=1.0)])\n",
    "hc = HyperfunctionCohomology(M, J)\n",
    "\n",
    "# Compute overlap data and obstruction cocycles\n",
    "overlaps = M.compute_chart_overlaps()\n",
    "print(\"Computed overlaps:\", overlaps)\n",
    "\n",
    "cocycle = hc.compute_cech_cocycle()\n",
    "print(\"Cech 1-cocycle length:\", len(cocycle))\n",
    "\n",
    "# Try to interpret/visualize an obstruction\n",
    "obs = hc.compute_wave_front_obstruction(cocycle)\n",
    "print(\"Obstruction summary keys:\", list(obs[0].keys()) if obs else [])\n"
   ]
  }
 ],
 "metadata": {},
 "nbformat": 4,
 "nbformat_minor": 5
}
