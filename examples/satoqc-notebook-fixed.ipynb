{
  "cells": [
    {
      "cell_type": "markdown",
      "metadata": {},
      "source": [
        "## Recovered notes (from Claude export)\n\n",
        "The following content was recovered from the original file before the JSON block and preserved for reference:\n\n",
        "```\n",
        "]\n  },",
        "\n```\n"
      ]
    }
  ],
  "metadata": {},
  "nbformat": 4,
  "nbformat_minor": 5
}